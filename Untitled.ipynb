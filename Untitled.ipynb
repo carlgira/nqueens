{
 "cells": [
  {
   "cell_type": "code",
   "execution_count": 17,
   "metadata": {},
   "outputs": [],
   "source": [
    "import wave"
   ]
  },
  {
   "cell_type": "code",
   "execution_count": 18,
   "metadata": {},
   "outputs": [],
   "source": [
    "import nqueens\n",
    "import numpy as np\n",
    "n =7\n",
    "\n",
    "sols = nqueens.n_queens(n)\n",
    "ee = []\n",
    "c_all = np.zeros(298)\n",
    "for sol in sols.all_solutions:\n",
    "    x, y = wave.build_fun(sol)\n",
    "    c = wave.fourier_series_coeff_numpy(x + y, return_complex=True)\n",
    "    #a0, af, bf = fourier_series_coeff_numpy(x + y)\n",
    "    ee.append(c)"
   ]
  },
  {
   "cell_type": "code",
   "execution_count": 19,
   "metadata": {},
   "outputs": [],
   "source": [
    "import numpy\n",
    "import pandas as pd\n",
    "import seaborn\n",
    "\n",
    "import matplotlib.pyplot as plt\n",
    "from sklearn.cluster import DBSCAN"
   ]
  },
  {
   "cell_type": "code",
   "execution_count": 40,
   "metadata": {},
   "outputs": [],
   "source": [
    "c_all = np.array(ee)"
   ]
  },
  {
   "cell_type": "code",
   "execution_count": 41,
   "metadata": {},
   "outputs": [],
   "source": [
    "df = pd.DataFrame(columns=['sol', 'num_sol', 'x', 'y'])"
   ]
  },
  {
   "cell_type": "code",
   "execution_count": 42,
   "metadata": {},
   "outputs": [],
   "source": [
    "for i, r in enumerate(c_all):\n",
    "    dft = pd.DataFrame(columns=['sol', 'num_sol', 'x', 'y'])\n",
    "    dft['x'] = r.real.T\n",
    "    dft['y'] = r.imag.T\n",
    "    dft['sol'] = i\n",
    "    dft['num_sol'] = np.arange(0, len(r.real))\n",
    "    df = df.append(dft)\n"
   ]
  },
  {
   "cell_type": "code",
   "execution_count": 48,
   "metadata": {},
   "outputs": [],
   "source": [
    "df = df.reset_index(drop=True)"
   ]
  },
  {
   "cell_type": "code",
   "execution_count": 52,
   "metadata": {},
   "outputs": [
    {
     "data": {
      "image/png": "[encoded data removed]",
      "text/plain": [
       "<Figure size 432x432 with 3 Axes>"
      ]
     },
     "metadata": {
      "needs_background": "light"
     },
     "output_type": "display_data"
    }
   ],
   "source": [
    "seaborn.jointplot(x='x', y='y', data=df, s=0.5);"
   ]
  },
  {
   "cell_type": "code",
   "execution_count": 49,
   "metadata": {},
   "outputs": [
    {
     "data": {
      "text/html": [
       "<div>\n",
       "<style scoped>\n",
       "    .dataframe tbody tr th:only-of-type {\n",
       "        vertical-align: middle;\n",
       "    }\n",
       "\n",
       "    .dataframe tbody tr th {\n",
       "        vertical-align: top;\n",
       "    }\n",
       "\n",
       "    .dataframe thead th {\n",
       "        text-align: right;\n",
       "    }\n",
       "</style>\n",
       "<table border=\"1\" class=\"dataframe\">\n",
       "  <thead>\n",
       "    <tr style=\"text-align: right;\">\n",
       "      <th></th>\n",
       "      <th>sol</th>\n",
       "      <th>num_sol</th>\n",
       "      <th>x</th>\n",
       "      <th>y</th>\n",
       "    </tr>\n",
       "  </thead>\n",
       "  <tbody>\n",
       "    <tr>\n",
       "      <th>0</th>\n",
       "      <td>0</td>\n",
       "      <td>0</td>\n",
       "      <td>0.005489</td>\n",
       "      <td>0.000000</td>\n",
       "    </tr>\n",
       "    <tr>\n",
       "      <th>1</th>\n",
       "      <td>0</td>\n",
       "      <td>1</td>\n",
       "      <td>0.008971</td>\n",
       "      <td>0.003249</td>\n",
       "    </tr>\n",
       "    <tr>\n",
       "      <th>2</th>\n",
       "      <td>0</td>\n",
       "      <td>2</td>\n",
       "      <td>-0.005179</td>\n",
       "      <td>0.006542</td>\n",
       "    </tr>\n",
       "    <tr>\n",
       "      <th>3</th>\n",
       "      <td>0</td>\n",
       "      <td>3</td>\n",
       "      <td>-0.029776</td>\n",
       "      <td>0.031534</td>\n",
       "    </tr>\n",
       "    <tr>\n",
       "      <th>4</th>\n",
       "      <td>0</td>\n",
       "      <td>4</td>\n",
       "      <td>-0.021187</td>\n",
       "      <td>0.039907</td>\n",
       "    </tr>\n",
       "  </tbody>\n",
       "</table>\n",
       "</div>"
      ],
      "text/plain": [
       "  sol num_sol         x         y\n",
       "0   0       0  0.005489  0.000000\n",
       "1   0       1  0.008971  0.003249\n",
       "2   0       2 -0.005179  0.006542\n",
       "3   0       3 -0.029776  0.031534\n",
       "4   0       4 -0.021187  0.039907"
      ]
     },
     "execution_count": 49,
     "metadata": {},
     "output_type": "execute_result"
    }
   ],
   "source": [
    "df.head()"
   ]
  },
  {
   "cell_type": "code",
   "execution_count": 47,
   "metadata": {},
   "outputs": [
    {
     "data": {
      "text/html": [
       "<div>\n",
       "<style scoped>\n",
       "    .dataframe tbody tr th:only-of-type {\n",
       "        vertical-align: middle;\n",
       "    }\n",
       "\n",
       "    .dataframe tbody tr th {\n",
       "        vertical-align: top;\n",
       "    }\n",
       "\n",
       "    .dataframe thead th {\n",
       "        text-align: right;\n",
       "    }\n",
       "</style>\n",
       "<table border=\"1\" class=\"dataframe\">\n",
       "  <thead>\n",
       "    <tr style=\"text-align: right;\">\n",
       "      <th></th>\n",
       "      <th>sol</th>\n",
       "      <th>num_sol</th>\n",
       "      <th>x</th>\n",
       "      <th>y</th>\n",
       "    </tr>\n",
       "  </thead>\n",
       "  <tbody>\n",
       "    <tr>\n",
       "      <th>0</th>\n",
       "      <td>0</td>\n",
       "      <td>0</td>\n",
       "      <td>0.005489</td>\n",
       "      <td>0.000000</td>\n",
       "    </tr>\n",
       "    <tr>\n",
       "      <th>1</th>\n",
       "      <td>0</td>\n",
       "      <td>1</td>\n",
       "      <td>0.008971</td>\n",
       "      <td>0.003249</td>\n",
       "    </tr>\n",
       "    <tr>\n",
       "      <th>2</th>\n",
       "      <td>0</td>\n",
       "      <td>2</td>\n",
       "      <td>-0.005179</td>\n",
       "      <td>0.006542</td>\n",
       "    </tr>\n",
       "    <tr>\n",
       "      <th>3</th>\n",
       "      <td>0</td>\n",
       "      <td>3</td>\n",
       "      <td>-0.029776</td>\n",
       "      <td>0.031534</td>\n",
       "    </tr>\n",
       "    <tr>\n",
       "      <th>4</th>\n",
       "      <td>0</td>\n",
       "      <td>4</td>\n",
       "      <td>-0.021187</td>\n",
       "      <td>0.039907</td>\n",
       "    </tr>\n",
       "    <tr>\n",
       "      <th>...</th>\n",
       "      <td>...</td>\n",
       "      <td>...</td>\n",
       "      <td>...</td>\n",
       "      <td>...</td>\n",
       "    </tr>\n",
       "    <tr>\n",
       "      <th>11915</th>\n",
       "      <td>39</td>\n",
       "      <td>293</td>\n",
       "      <td>0.000601</td>\n",
       "      <td>-0.000013</td>\n",
       "    </tr>\n",
       "    <tr>\n",
       "      <th>11916</th>\n",
       "      <td>39</td>\n",
       "      <td>294</td>\n",
       "      <td>0.000595</td>\n",
       "      <td>-0.000012</td>\n",
       "    </tr>\n",
       "    <tr>\n",
       "      <th>11917</th>\n",
       "      <td>39</td>\n",
       "      <td>295</td>\n",
       "      <td>0.000595</td>\n",
       "      <td>-0.000007</td>\n",
       "    </tr>\n",
       "    <tr>\n",
       "      <th>11918</th>\n",
       "      <td>39</td>\n",
       "      <td>296</td>\n",
       "      <td>0.000601</td>\n",
       "      <td>-0.000007</td>\n",
       "    </tr>\n",
       "    <tr>\n",
       "      <th>11919</th>\n",
       "      <td>39</td>\n",
       "      <td>297</td>\n",
       "      <td>0.000595</td>\n",
       "      <td>0.000005</td>\n",
       "    </tr>\n",
       "  </tbody>\n",
       "</table>\n",
       "<p>11920 rows × 4 columns</p>\n",
       "</div>"
      ],
      "text/plain": [
       "      sol num_sol         x         y\n",
       "0       0       0  0.005489  0.000000\n",
       "1       0       1  0.008971  0.003249\n",
       "2       0       2 -0.005179  0.006542\n",
       "3       0       3 -0.029776  0.031534\n",
       "4       0       4 -0.021187  0.039907\n",
       "...    ..     ...       ...       ...\n",
       "11915  39     293  0.000601 -0.000013\n",
       "11916  39     294  0.000595 -0.000012\n",
       "11917  39     295  0.000595 -0.000007\n",
       "11918  39     296  0.000601 -0.000007\n",
       "11919  39     297  0.000595  0.000005\n",
       "\n",
       "[11920 rows x 4 columns]"
      ]
     },
     "execution_count": 47,
     "metadata": {},
     "output_type": "execute_result"
    }
   ],
   "source": [
    "df = df.reset_index(drop=True)"
   ]
  },
  {
   "cell_type": "code",
   "execution_count": 51,
   "metadata": {},
   "outputs": [
    {
     "data": {
      "text/html": [
       "<div>\n",
       "<style scoped>\n",
       "    .dataframe tbody tr th:only-of-type {\n",
       "        vertical-align: middle;\n",
       "    }\n",
       "\n",
       "    .dataframe tbody tr th {\n",
       "        vertical-align: top;\n",
       "    }\n",
       "\n",
       "    .dataframe thead th {\n",
       "        text-align: right;\n",
       "    }\n",
       "</style>\n",
       "<table border=\"1\" class=\"dataframe\">\n",
       "  <thead>\n",
       "    <tr style=\"text-align: right;\">\n",
       "      <th></th>\n",
       "      <th>sol</th>\n",
       "      <th>num_sol</th>\n",
       "      <th>x</th>\n",
       "      <th>y</th>\n",
       "    </tr>\n",
       "  </thead>\n",
       "  <tbody>\n",
       "  </tbody>\n",
       "</table>\n",
       "</div>"
      ],
      "text/plain": [
       "Empty DataFrame\n",
       "Columns: [sol, num_sol, x, y]\n",
       "Index: []"
      ]
     },
     "execution_count": 51,
     "metadata": {},
     "output_type": "execute_result"
    }
   ],
   "source": [
    "df[df.index.duplicated()]"
   ]
  },
  {
   "cell_type": "code",
   "execution_count": null,
   "metadata": {},
   "outputs": [],
   "source": []
  },
  {
   "cell_type": "code",
   "execution_count": null,
   "metadata": {},
   "outputs": [],
   "source": []
  },
  {
   "cell_type": "code",
   "execution_count": null,
   "metadata": {},
   "outputs": [],
   "source": []
  },
  {
   "cell_type": "code",
   "execution_count": null,
   "metadata": {},
   "outputs": [],
   "source": []
  },
  {
   "cell_type": "code",
   "execution_count": null,
   "metadata": {},
   "outputs": [],
   "source": []
  },
  {
   "cell_type": "code",
   "execution_count": null,
   "metadata": {},
   "outputs": [],
   "source": []
  },
  {
   "cell_type": "code",
   "execution_count": null,
   "metadata": {},
   "outputs": [],
   "source": []
  },
  {
   "cell_type": "code",
   "execution_count": null,
   "metadata": {},
   "outputs": [],
   "source": []
  },
  {
   "cell_type": "code",
   "execution_count": 16,
   "metadata": {},
   "outputs": [
    {
     "data": {
      "text/plain": [
       "array([[ 5.48866379e-03+0.00000000e+00j,  8.97142744e-03+3.24883098e-03j,\n",
       "        -5.17900131e-03+6.54243236e-03j, ...,\n",
       "         1.36984177e-04-2.55313425e-06j,  1.41332933e-04-1.03780519e-05j,\n",
       "         1.39058918e-04-7.60865270e-06j],\n",
       "       [-7.49963079e-03+0.00000000e+00j, -1.09471661e-02-5.21215442e-03j,\n",
       "         1.35131935e-03+1.06701039e-03j, ...,\n",
       "        -3.01695328e-04+4.40159456e-06j, -3.08960007e-04+8.73507248e-06j,\n",
       "        -3.00049875e-04+9.00408019e-06j],\n",
       "       [ 3.43725771e-03+0.00000000e+00j,  3.14252307e-03-1.76837337e-03j,\n",
       "        -1.59327256e-02-7.34299122e-03j, ...,\n",
       "         6.87251072e-05-1.60513832e-06j,  6.99668878e-05-5.31218521e-06j,\n",
       "         5.62919194e-05+6.37051368e-06j],\n",
       "       ...,\n",
       "       [ 1.25236567e-02+0.00000000e+00j,  1.32454034e-02+2.75887540e-03j,\n",
       "         3.50725690e-02+1.19270266e-03j, ...,\n",
       "         3.13731767e-04-2.76360409e-06j,  3.13171675e-04+5.63991206e-06j,\n",
       "         3.19802593e-04-5.54465855e-06j],\n",
       "       [ 1.87797875e-02+0.00000000e+00j,  2.27615089e-02+6.40909482e-03j,\n",
       "         3.28672909e-02+9.41614724e-03j, ...,\n",
       "         5.25052075e-04-6.11263302e-06j,  5.28357146e-04-3.92798963e-06j,\n",
       "         5.34218278e-04-1.11704861e-05j],\n",
       "       [ 2.08311936e-02+0.00000000e+00j,  2.45248832e-02+6.83604232e-03j,\n",
       "         1.62752808e-02+4.75045863e-03j, ...,\n",
       "         5.94731530e-04-7.32979379e-06j,  6.01205143e-04-6.60388193e-06j,\n",
       "         5.95078850e-04+4.94823288e-06j]])"
      ]
     },
     "execution_count": 16,
     "metadata": {},
     "output_type": "execute_result"
    }
   ],
   "source": []
  },
  {
   "cell_type": "code",
   "execution_count": null,
   "metadata": {},
   "outputs": [],
   "source": []
  },
  {
   "cell_type": "code",
   "execution_count": null,
   "metadata": {},
   "outputs": [],
   "source": []
  }
 ],
 "metadata": {
  "kernelspec": {
   "display_name": "Python 3 (ipykernel)",
   "language": "python",
   "name": "python3"
  },
  "language_info": {
   "codemirror_mode": {
    "name": "ipython",
    "version": 3
   },
   "file_extension": ".py",
   "mimetype": "text/x-python",
   "name": "python",
   "nbconvert_exporter": "python",
   "pygments_lexer": "ipython3",
   "version": "3.9.7"
  }
 },
 "nbformat": 4,
 "nbformat_minor": 2
}
